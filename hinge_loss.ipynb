{
 "cells": [
  {
   "cell_type": "code",
   "execution_count": 1,
   "metadata": {},
   "outputs": [
    {
     "name": "stdout",
     "output_type": "stream",
     "text": [
      "Hinge Loss from Scratch: 0.9733369722264691\n",
      "Hinge Loss from Sklearn: 0.9733369722264691\n"
     ]
    }
   ],
   "source": [
    "import numpy as np\n",
    "from sklearn.metrics import hinge_loss\n",
    "\n",
    "def hinge_fun(actual, predicted):\n",
    "    \n",
    "    # replacing 0 = -1\n",
    "    new_predicted = np.where(predicted == 0, -1, predicted)\n",
    "    new_actual = np.where(actual == 0, -1, actual)\n",
    "\n",
    "    # calculating hinge loss\n",
    "    hinge = np.mean(np.maximum(0, 1 - new_actual * new_predicted))\n",
    "    return hinge\n",
    "\n",
    "def generate_data(n_samples=1000):\n",
    "    X = np.random.randn(n_samples, 2)  # Random features\n",
    "    y = np.random.choice([-1, 1], size=n_samples)  # Random binary labels\n",
    "    return X, y\n",
    "\n",
    "# Example\n",
    "from sklearn.model_selection import train_test_split\n",
    "from sklearn.svm import SVC\n",
    "\n",
    "X, y = generate_data(n_samples=1000)\n",
    "\n",
    "# Split the data\n",
    "X_train, X_test, y_train, y_test = train_test_split(X, y, test_size=0.3, random_state=42)\n",
    "\n",
    "# Train an SVM classifier\n",
    "model = SVC(kernel='linear')\n",
    "model.fit(X_train, y_train)\n",
    "\n",
    "# Get predicted labels for the test set\n",
    "y_predicted = model.predict(X_test)\n",
    "\n",
    "\n",
    "\n",
    "# Calculate hinge loss using sklearn's function\n",
    "decision_values = model.decision_function(X_test)\n",
    "sklearn_loss = hinge_loss(y_test, decision_values)\n",
    "\n",
    "# Calculate hinge loss from scratch\n",
    "scratch_loss = hinge_fun(y_test, decision_values)\n",
    "\n",
    "print(\"Hinge Loss from Scratch:\", scratch_loss)\n",
    "print(\"Hinge Loss from Sklearn:\", sklearn_loss)\n"
   ]
  }
 ],
 "metadata": {
  "kernelspec": {
   "display_name": "Python 3 (ipykernel)",
   "language": "python",
   "name": "python3"
  },
  "language_info": {
   "codemirror_mode": {
    "name": "ipython",
    "version": 3
   },
   "file_extension": ".py",
   "mimetype": "text/x-python",
   "name": "python",
   "nbconvert_exporter": "python",
   "pygments_lexer": "ipython3",
   "version": "3.11.8"
  }
 },
 "nbformat": 4,
 "nbformat_minor": 2
}
